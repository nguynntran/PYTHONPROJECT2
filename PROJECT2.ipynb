{
 "cells": [
  {
   "cell_type": "code",
   "execution_count": 157,
   "metadata": {},
   "outputs": [],
   "source": [
    "import numpy as np\n",
    "import pandas as pd\n",
    "import seaborn as sns\n",
    "import matplotlib.pyplot as plt"
   ]
  },
  {
   "cell_type": "markdown",
   "metadata": {},
   "source": [
    "# 1. Warm-up (4 points)"
   ]
  },
  {
   "cell_type": "markdown",
   "metadata": {},
   "source": [
    "## 1.1 Creating Matrices (0.25 points)\n",
    "\n",
    "Create 4 matrices\n",
    "- A - a \"checkerboard\" matrix of zeros and ones, size 6x3, with the top-left value (A[0][0]) equal to 1,\n",
    "- В - a matrix of numbers from 1 to 24, arranged in a snake-like pattern, size 6x4,\n",
    "- C - a matrix of random integers from 2 to 10 (inclusive), size 4x3,\n",
    "- D - a matrix of zeros with ones on the main diagonal, size 4x4.\n",
    "\n",
    "**Create a “patchwork” matrix S from these matrices**\n",
    "\n",
    "A В\n",
    "\n",
    "С D\n",
    "\n",
    "using **only standard** numpy operations. Do not use Comprehensions.\n",
    "\n",
    "Then, append matrix **F** of size 10x2 filled with zeros to the resulting matrix **S** to create matrix **G**:\n",
    "\n",
    "S F\n",
    "\n",
    "Note: When we say a matrix has a size of x by y, x is the number of rows, and y is the number of columns."
   ]
  },
  {
   "cell_type": "code",
   "execution_count": null,
   "metadata": {},
   "outputs": [],
   "source": [
    "\n",
    "# Step 1: Create matrix A (6x3 checkerboard)\n",
    "A = np.tile([[1, 0, 1], [0, 1, 0]], (3, 1))\n",
    "\n",
    "# Step 2: Create matrix B (6x4 snake-like)\n",
    "B = np.zeros((6, 4), dtype=int)\n",
    "for i in range(6):\n",
    "    B[i] = np.arange(i * 4 + 1, (i + 1) * 4 + 1)[::(-1) ** i]  # Create snake pattern\n",
    "\n",
    "# Step 3: Create matrix C (4x3 random integers from 2 to 10)\n",
    "C = np.random.randint(2, 11, (4, 3))\n",
    "\n",
    "# Step 4: Create matrix D (4x4 identity)\n",
    "D = np.eye(4, dtype=int)\n",
    "\n",
    "# Step 5: Combine matrices to form the patchwork matrix S\n",
    "top = np.hstack((A, B))  # Top part: A | B\n",
    "bottom = np.hstack((C, D))  # Bottom part: C | D\n",
    "S = np.vstack((top, bottom))  # Combine top and bottom\n",
    "\n",
    "# Step 6: Create matrix F (10x2 zeros)\n",
    "F = np.zeros((10, 2), dtype=int)\n",
    "\n",
    "# Step 7: Append F to S to form matrix G\n",
    "G = np.hstack((S, np.vstack((F, np.zeros((S.shape[0] - F.shape[0], 2), dtype=int)))))\n",
    "\n",
    "# Display matrices using pandas for better visualization\n",
    "print(\"Matrix A:\")\n",
    "print(pd.DataFrame(A))\n",
    "\n",
    "print(\"\\nMatrix B:\")\n",
    "print(pd.DataFrame(B))\n",
    "\n",
    "print(\"\\nMatrix C:\")\n",
    "print(pd.DataFrame(C))\n",
    "\n",
    "print(\"\\nMatrix D:\")\n",
    "print(pd.DataFrame(D))\n",
    "\n",
    "print(\"\\nMatrix F:\")\n",
    "print(pd.DataFrame(F))\n",
    "\n",
    "print(\"\\nPatchwork Matrix S:\")\n",
    "print(pd.DataFrame(S))\n",
    "\n",
    "print(\"\\nFinal Matrix G:\")\n",
    "print(pd.DataFrame(G))\n"
   ]
  },
  {
   "cell_type": "markdown",
   "metadata": {},
   "source": [
    "## 1.2 Finding the Nearest Neighbor (0.25 points)\n",
    "\n",
    "Implement a function that takes a matrix **X** and a number **a** and returns the element in the matrix closest to the given number.\n",
    "   \n",
    "For example, for **X = np.arange(0, 10).reshape((2, 5))** and **a = 3.6**, the answer will be 4. You can only use basic numpy functions, **do not use loops**."
   ]
  },
  {
   "cell_type": "code",
   "execution_count": 41,
   "metadata": {},
   "outputs": [
    {
     "name": "stdout",
     "output_type": "stream",
     "text": [
      "2\n"
     ]
    }
   ],
   "source": [
    "def find_nearest_neighbour(X,a):\n",
    "    diff = np.abs(X - a).argmin()\n",
    "    return X.flat[diff]\n",
    "\n",
    "X = np.arange(0, 10).reshape((2, 5))\n",
    "a = 2.3\n",
    "\n",
    "result = find_nearest_neighbour(X,a)\n",
    "\n",
    "print(result)"
   ]
  },
  {
   "cell_type": "markdown",
   "metadata": {},
   "source": [
    "## 1.3 Very Strange Neural Network (0.25 points)\n",
    "\n",
    "Implement a strange neural network. The network should:\n",
    "\n",
    "- Square matrix **A** (the weight matrix) of size N x N.\n",
    "- In the first transformation, multiply a vector **X** of length N (feature vector) by the weight matrix **A^2** (the output will be a new vector).\n",
    "- In the second transformation, multiply the resulting vector by vector **b** (weight vector) of size N to produce a scalar value.\n",
    "\n",
    "Assume that all elements in matrices and vectors are floating-point numbers."
   ]
  },
  {
   "cell_type": "code",
   "execution_count": null,
   "metadata": {},
   "outputs": [
    {
     "name": "stdout",
     "output_type": "stream",
     "text": [
      "[[0.96489273]]\n"
     ]
    }
   ],
   "source": [
    "# Create your own data for an example, with N >= 4\n",
    "A = np.random.rand(2,2)\n",
    "b = np.random.rand(1,2)\n",
    "X = np.random.rand(2,1)\n",
    "\n",
    "def very_strange_neural_network(A, b, X):\n",
    "    A_squared = np.dot(A, A)\n",
    "    \n",
    "    intermediate_vector = np.dot(A_squared, X)\n",
    "    \n",
    "    result = np.dot(b, intermediate_vector)\n",
    "    return result\n",
    "\n",
    "print(very_strange_neural_network(A,b,X))"
   ]
  },
  {
   "cell_type": "markdown",
   "metadata": {},
   "source": [
    "## 1.4 The Jungle Calls! (0.25 points)\n",
    "\n",
    "You are given a matrix **M**, a map of an impassable jungle terrain created by Lara Croft. Each cell in the map is an integer representing the height above sea level (if positive) in meters or the sea depth (if negative) in meters in a one-meter-by-one-meter area of the map. If the number is 0, it represents land - a shoreline.\n",
    "\n",
    "You need to calculate:\n",
    "- The total area of cells in the sea where the depth is greater than 5 (in m^2).\n",
    "- The total volume of water on the map (in m^3).\n",
    "- The maximum height above sea level on this map (in m)."
   ]
  },
  {
   "cell_type": "code",
   "execution_count": 84,
   "metadata": {},
   "outputs": [],
   "source": [
    "def find_deep_sea_area(M):\n",
    "    return np.sum(M < -5)\n",
    "\n",
    "def find_water_volume(M):\n",
    "    return -np.sum(M[M < 0])\n",
    "\n",
    "def find_max_height(M):\n",
    "    return np.amax(M)"
   ]
  },
  {
   "cell_type": "code",
   "execution_count": 87,
   "metadata": {},
   "outputs": [
    {
     "name": "stdout",
     "output_type": "stream",
     "text": [
      "Total sea area on the map - 2 м^2\n",
      "Total water volume on the map - 26 м^3\n",
      "Maximum elevation on the map - 25 м\n"
     ]
    }
   ],
   "source": [
    "M = np.array([\n",
    "    [-7, -8, -1, 0],\n",
    "    [-4, -3, 1, 19],\n",
    "    [-2, 0, 4, 25],\n",
    "    [-1, 3, 6, 9]\n",
    "])\n",
    "\n",
    "# simple check for the example above\n",
    "assert np.isclose(find_deep_sea_area(M), 2)\n",
    "assert np.isclose(find_water_volume(M), 26)\n",
    "assert np.isclose(find_max_height(M), 25)\n",
    "\n",
    "print(\"Total sea area on the map -\", find_deep_sea_area(M), \"м^2\")\n",
    "print(\"Total water volume on the map -\", find_water_volume(M), \"м^3\")\n",
    "print(\"Maximum elevation on the map -\", find_max_height(M), \"м\")\n"
   ]
  },
  {
   "cell_type": "markdown",
   "metadata": {},
   "source": [
    "## 1.5 Treasure Islands (0.25 points)\n",
    "\n",
    "\n",
    "The function takes an array **a** of zeros and ones as input. Count the number of consecutive blocks of ones (islands) in the array. Only basic numpy functions are allowed, **no loops**.\n",
    "\n",
    "Hint: check what `np.diff` does."
   ]
  },
  {
   "cell_type": "code",
   "execution_count": 28,
   "metadata": {},
   "outputs": [],
   "source": [
    "def count_all_islands(a):\n",
    "    transitions = np.diff(a)  # Differences between consecutive elements\n",
    "    return np.sum(transitions == 1) + (a[0] == 1)"
   ]
  },
  {
   "cell_type": "code",
   "execution_count": 80,
   "metadata": {},
   "outputs": [
    {
     "name": "stdout",
     "output_type": "stream",
     "text": [
      "4\n"
     ]
    }
   ],
   "source": [
    "# можно подставить свой пример\n",
    "\n",
    "a = np.array([0, 0, 1, 1, 1, 0, 0, 0, 0, 1, 1, 0, 0, 1, 0, 1, 1, 1])\n",
    "\n",
    "# простая проверка для примера выше\n",
    "assert count_all_islands(a) == 4\n",
    "print(count_all_islands(a))\n"
   ]
  },
  {
   "cell_type": "markdown",
   "metadata": {},
   "source": [
    "## 1.6 Masquerade (0.25 points)\n",
    "\n",
    "The input is a 2D matrix **X** filled with floating-point numbers and a floating-point number **a**. Replace all cells in the matrix greater than **a** with the average value of the elements in **X**.\n",
    "\n",
    "**You must** use basic numpy functions, **no loops**."
   ]
  },
  {
   "cell_type": "code",
   "execution_count": 71,
   "metadata": {},
   "outputs": [],
   "source": [
    "def swap_mask_for_average(X, a):\n",
    "    avg = np.average(X)\n",
    "    M[M > a] = avg\n",
    "    return M"
   ]
  },
  {
   "cell_type": "code",
   "execution_count": 79,
   "metadata": {},
   "outputs": [
    {
     "name": "stdout",
     "output_type": "stream",
     "text": [
      "2.875\n"
     ]
    },
    {
     "data": {
      "text/plain": [
       "array([[-7, -3, -1,  0],\n",
       "       [-4, -3,  1,  2],\n",
       "       [-2,  0,  4,  2],\n",
       "       [-1,  3,  2,  2]])"
      ]
     },
     "execution_count": 79,
     "metadata": {},
     "output_type": "execute_result"
    }
   ],
   "source": [
    "# You can create your own example.\n",
    "M = np.array([\n",
    "    [-7, -3, -1, 0],\n",
    "    [-4, -3, 1, 19],\n",
    "    [-2, 0, 4, 25],\n",
    "    [-1, 3, 6, 9]\n",
    "])\n",
    "a = 5\n",
    "print(np.average(M))\n",
    "# simple check for the example above\n",
    "assert np.allclose(swap_mask_for_average(M, a),\n",
    "                   np.array([\n",
    "                       [-7, -3, -1, 0],\n",
    "                       [-4, -3, 1, 2],\n",
    "                       [-2, 0, 4, 2],\n",
    "                       [-1, 3, 2, 2]\n",
    "                   ]))\n",
    "swap_mask_for_average(M, a)"
   ]
  },
  {
   "cell_type": "markdown",
   "metadata": {},
   "source": [
    "## 1.7 Hot on the Trails (0.25 points)\n",
    "\n",
    "The input is a square matrix **M**. Calculate the difference between the sum along the main diagonal and the secondary diagonal.\n",
    "\n",
    "Only basic numpy functions are allowed, **no loops**.\n",
    "\n",
    "Hint: look up `np.trace`."
   ]
  },
  {
   "cell_type": "code",
   "execution_count": 101,
   "metadata": {},
   "outputs": [
    {
     "name": "stdout",
     "output_type": "stream",
     "text": [
      "[[9 7]\n",
      " [6 7]]\n"
     ]
    },
    {
     "data": {
      "text/plain": [
       "np.int64(16)"
      ]
     },
     "execution_count": 101,
     "metadata": {},
     "output_type": "execute_result"
    }
   ],
   "source": [
    "import numpy as np\n",
    "np.trace(np.eye(3))\n",
    "a = np.random.randint(4,11,(2,2))\n",
    "print(a)\n",
    "np.trace(a)"
   ]
  },
  {
   "cell_type": "code",
   "execution_count": null,
   "metadata": {},
   "outputs": [],
   "source": [
    "def count_trace_diff(M):\n",
    "    mdiag = np.trace(M)\n",
    "    sediag = np.trace(np.fliplr(M))\n",
    "    return mdiag - sediag"
   ]
  },
  {
   "cell_type": "code",
   "execution_count": 109,
   "metadata": {},
   "outputs": [
    {
     "data": {
      "text/plain": [
       "np.int64(3)"
      ]
     },
     "execution_count": 109,
     "metadata": {},
     "output_type": "execute_result"
    }
   ],
   "source": [
    "# You can create your own example.\n",
    "M = np.array([\n",
    "    [-7, -3, -1, 0],\n",
    "    [-4, -3, 1, 19],\n",
    "    [-2, 0, 4, 25],\n",
    "    [-1, 3, 6, 9]\n",
    "])\n",
    "# simple check for the example above\n",
    "assert np.allclose(count_trace_diff(M), 3)\n",
    "\n",
    "count_trace_diff(M)"
   ]
  },
  {
   "cell_type": "markdown",
   "metadata": {},
   "source": [
    "## 1.8 King of the Hill (0.25 points)\n",
    "\n",
    "The input is a vector a of size N. Using addition, concatenation, and broadcasting, create a symmetric matrix of size 2N x 2N with the maximum value in the center and decreasing values toward the edges.\n",
    "\n",
    "Example: a = (0, 1, 2)\n",
    "\n",
    "Result:\n",
    "\n",
    "0 1 2 2 1 0 \\\\\n",
    "1 2 3 3 2 1 \\\\\n",
    "2 3 4 4 3 2 \\\\\n",
    "2 3 4 4 3 2 \\\\\n",
    "1 2 3 3 2 1 \\\\\n",
    "0 1 2 2 1 0 \\\\"
   ]
  },
  {
   "cell_type": "code",
   "execution_count": 155,
   "metadata": {},
   "outputs": [],
   "source": [
    "def create_mountain(a):\n",
    "    base = a[:, None] + a\n",
    "    top_half = np.concatenate([base, base[:, ::-1]], axis=1)\n",
    "    full_matrix = np.concatenate([top_half, top_half[::-1, :]], axis=0)\n",
    "    return full_matrix"
   ]
  },
  {
   "cell_type": "code",
   "execution_count": 156,
   "metadata": {},
   "outputs": [
    {
     "data": {
      "text/plain": [
       "array([[0, 1, 2, 3, 4, 4, 3, 2, 1, 0],\n",
       "       [1, 2, 3, 4, 5, 5, 4, 3, 2, 1],\n",
       "       [2, 3, 4, 5, 6, 6, 5, 4, 3, 2],\n",
       "       [3, 4, 5, 6, 7, 7, 6, 5, 4, 3],\n",
       "       [4, 5, 6, 7, 8, 8, 7, 6, 5, 4],\n",
       "       [4, 5, 6, 7, 8, 8, 7, 6, 5, 4],\n",
       "       [3, 4, 5, 6, 7, 7, 6, 5, 4, 3],\n",
       "       [2, 3, 4, 5, 6, 6, 5, 4, 3, 2],\n",
       "       [1, 2, 3, 4, 5, 5, 4, 3, 2, 1],\n",
       "       [0, 1, 2, 3, 4, 4, 3, 2, 1, 0]])"
      ]
     },
     "execution_count": 156,
     "metadata": {},
     "output_type": "execute_result"
    }
   ],
   "source": [
    "# You can create your own example.\n",
    "a = np.array([0, 1, 2, 3,4])\n",
    "\n",
    "create_mountain(a)"
   ]
  },
  {
   "cell_type": "markdown",
   "metadata": {},
   "source": [
    "## 1.9 Monochrome Photograph 9x12 (0.5 points)\n",
    "\n",
    "The input is a 2D matrix **P** of size N x M filled with numbers from 0 to 255, representing a grayscale photograph, and a natural number **C**. You need to produce a matrix of size (N - C + 1) x (M - C + 1), where each cell is the average value of the corresponding sub-matrix of size **C x C**. Essentially, this will apply a simple blur effect (slightly reducing its size)."
   ]
  },
  {
   "cell_type": "code",
   "execution_count": 158,
   "metadata": {},
   "outputs": [],
   "source": [
    "def custom_blur(P, C):\n",
    "    # Shape of the output matrix\n",
    "    N, M = P.shape\n",
    "    output_shape = (N - C + 1, M - C + 1)\n",
    "    \n",
    "    # Stride-based sub-matrices using broadcasting to calculate averages\n",
    "    sub_matrices = np.lib.stride_tricks.sliding_window_view(P, (C, C))\n",
    "    return sub_matrices.mean(axis=(-2, -1))  # Average over each CxC sub-matrix\n",
    "\n"
   ]
  },
  {
   "cell_type": "code",
   "execution_count": 159,
   "metadata": {},
   "outputs": [
    {
     "name": "stdout",
     "output_type": "stream",
     "text": [
      "[[2.5 3.5 4.5]\n",
      " [6.5 7.5 8.5]]\n"
     ]
    }
   ],
   "source": [
    "# Example matrix and kernel\n",
    "P = np.arange(0, 12).reshape((3, 4))\n",
    "kernel = 2\n",
    "\n",
    "# Applying the blur function\n",
    "result = custom_blur(P, kernel)\n",
    "\n",
    "# Printing the result\n",
    "print(result)\n",
    "\n",
    "# Simple check for validation\n",
    "assert np.allclose(result, np.array([[2.5, 3.5, 4.5], [6.5, 7.5, 8.5]]))"
   ]
  },
  {
   "cell_type": "markdown",
   "metadata": {},
   "source": [
    "## 1.10 Validation Function (0.75 points)\n",
    "\n",
    "The input to the function is an arbitrary number (>2) of tuples representing the shapes of different matrices. The function should return True if the matrices can be sequentially added together (possibly using broadcasting), and False otherwise."
   ]
  },
  {
   "cell_type": "code",
   "execution_count": 160,
   "metadata": {},
   "outputs": [],
   "source": [
    "def check_successful_broadcast(*matrices):\n",
    "    # Helper function to check broadcasting compatibility between two shapes\n",
    "    def are_shapes_compatible(shape1, shape2):\n",
    "        # Reverse the shapes to align trailing dimensions\n",
    "        shape1, shape2 = shape1[::-1], shape2[::-1]\n",
    "        for i in range(max(len(shape1), len(shape2))):\n",
    "            dim1 = shape1[i] if i < len(shape1) else 1\n",
    "            dim2 = shape2[i] if i < len(shape2) else 1\n",
    "            if dim1 != dim2 and dim1 != 1 and dim2 != 1:\n",
    "                return False\n",
    "        return True\n",
    "\n",
    "    # Sequentially check compatibility\n",
    "    current_shape = matrices[0]\n",
    "    for next_shape in matrices[1:]:\n",
    "        if not are_shapes_compatible(current_shape, next_shape):\n",
    "            return False\n",
    "        # Update the current shape to the resulting broadcasted shape\n",
    "        current_shape = tuple(\n",
    "            max(dim1, dim2) if dim1 != 1 and dim2 != 1 else max(dim1, dim2)\n",
    "            for dim1, dim2 in zip(\n",
    "                (1,) * (len(next_shape) - len(current_shape)) + current_shape,\n",
    "                (1,) * (len(current_shape) - len(next_shape)) + next_shape\n",
    "            )\n",
    "        )\n",
    "    return True"
   ]
  },
  {
   "cell_type": "code",
   "execution_count": null,
   "metadata": {},
   "outputs": [
    {
     "name": "stdout",
     "output_type": "stream",
     "text": [
      "True\n"
     ]
    }
   ],
   "source": [
    "# I test with your examples\n",
    "print(check_successful_broadcast((5, 6, 7), (6, 7), (1, 7)))\n",
    "print(check_successful_broadcast((2,5,8),(2,1,1)))\n"
   ]
  },
  {
   "cell_type": "markdown",
   "metadata": {},
   "source": [
    "## 1.11 Pairwise Distances (0.75 points)\n",
    "\n",
    "The input is matrices A of size m x k and B of size n x k. Create a matrix of size m x n containing pairwise Euclidean distances.\n",
    "\n",
    "Only use basic functions, do not use loops or third-party libraries. Broadcasting will probably be useful. The solution must be **in one line**, following all code style rules."
   ]
  },
  {
   "cell_type": "code",
   "execution_count": 169,
   "metadata": {},
   "outputs": [],
   "source": [
    "def pairwise_distances(A, B):\n",
    "    return ((A[:, None, :] - B[None, :, :]) ** 2).sum(axis=2) ** 0.5\n"
   ]
  },
  {
   "cell_type": "code",
   "execution_count": 170,
   "metadata": {},
   "outputs": [
    {
     "data": {
      "text/plain": [
       "array([[ 5.65685425,  8.48528137, 11.3137085 ],\n",
       "       [ 2.82842712,  5.65685425,  8.48528137]])"
      ]
     },
     "execution_count": 170,
     "metadata": {},
     "output_type": "execute_result"
    }
   ],
   "source": [
    "A = np.array([[1, 2], [3, 4]])\n",
    "B = np.array([[5, 6], [7, 8], [9, 10]])\n",
    "\n",
    "pairwise_distances(A, B)"
   ]
  },
  {
   "cell_type": "markdown",
   "metadata": {},
   "source": [
    "MY EXPLAIN :\n"
   ]
  },
  {
   "cell_type": "markdown",
   "metadata": {},
   "source": [
    "# 2. Data Experiment Processing (3 points)"
   ]
  },
  {
   "cell_type": "markdown",
   "metadata": {},
   "source": [
    "Ladies and gentlemen, now we're going to learn to use libraries for data analysis in real-life scenarios!\n",
    "\n",
    "**The reason behind this section is simple**: many students in the Faculty of Physics and Mathematics still rely on Excel, calculators, or pen and paper even in their second or third semesters. Our goal is to introduce another method for conducting laboratory work with a much lower entry barrier than Excel itself. We hope this motivates some to explore these handy libraries further.\n",
    "\n",
    "*Data sponsor for this section - blacksamorez. Without them, five happy semesters of labs would have been far less joyful...*"
   ]
  },
  {
   "cell_type": "code",
   "execution_count": null,
   "metadata": {},
   "outputs": [],
   "source": [
    "import numpy as np\n",
    "import pandas as pd\n",
    "import matplotlib.pyplot as plt"
   ]
  },
  {
   "cell_type": "markdown",
   "metadata": {},
   "source": [
    "##  2.1. Problem Statement and Data\n",
    "\n",
    "Let's assume we have a gyroscope with a weight attached to its axis on an arm (see the diagram for a quick understanding, and you can find more details in the [laboratory manual](https://lib.mipt.ru/book/267519/), volume 1, p.160). Due to the weight, the gyroscope begins to slowly [precess](https://en.wikipedia.org/wiki/Precession), i.e., it rotates around the vertical axis with a relatively constant frequency.\n",
    "\n",
    "We'll work through part of this lab, primarily focusing on data processing and plotting graphs."
   ]
  },
  {
   "cell_type": "markdown",
   "metadata": {},
   "source": [
    "<center><img src='https://drive.google.com/uc?export=view&id=1KfYQ0hKYRDhi5uk7C8lNffZBNy8NF7nu' width=600>\n",
    "\n",
    "Diagram of the gyroscope with the attached weight G and arm C</center>"
   ]
  },
  {
   "cell_type": "code",
   "execution_count": 224,
   "metadata": {},
   "outputs": [
    {
     "data": {
      "text/html": [
       "<div>\n",
       "<style scoped>\n",
       "    .dataframe tbody tr th:only-of-type {\n",
       "        vertical-align: middle;\n",
       "    }\n",
       "\n",
       "    .dataframe tbody tr th {\n",
       "        vertical-align: top;\n",
       "    }\n",
       "\n",
       "    .dataframe thead th {\n",
       "        text-align: right;\n",
       "    }\n",
       "</style>\n",
       "<table border=\"1\" class=\"dataframe\">\n",
       "  <thead>\n",
       "    <tr style=\"text-align: right;\">\n",
       "      <th></th>\n",
       "      <th>Unnamed: 0</th>\n",
       "      <th>N</th>\n",
       "      <th>t, sec</th>\n",
       "      <th>sigma_t, sec</th>\n",
       "      <th>mass, gramm</th>\n",
       "      <th>length, cm</th>\n",
       "      <th>phi, rad</th>\n",
       "    </tr>\n",
       "  </thead>\n",
       "  <tbody>\n",
       "    <tr>\n",
       "      <th>0</th>\n",
       "      <td>1</td>\n",
       "      <td>4</td>\n",
       "      <td>268</td>\n",
       "      <td>1</td>\n",
       "      <td>180.0</td>\n",
       "      <td>121.0</td>\n",
       "      <td>0.16</td>\n",
       "    </tr>\n",
       "    <tr>\n",
       "      <th>1</th>\n",
       "      <td>2</td>\n",
       "      <td>4</td>\n",
       "      <td>264</td>\n",
       "      <td>1</td>\n",
       "      <td>180.0</td>\n",
       "      <td>121.0</td>\n",
       "      <td>0.18</td>\n",
       "    </tr>\n",
       "    <tr>\n",
       "      <th>2</th>\n",
       "      <td>3</td>\n",
       "      <td>4</td>\n",
       "      <td>275</td>\n",
       "      <td>1</td>\n",
       "      <td>180.0</td>\n",
       "      <td>121.0</td>\n",
       "      <td>0.16</td>\n",
       "    </tr>\n",
       "    <tr>\n",
       "      <th>3</th>\n",
       "      <td>4</td>\n",
       "      <td>4</td>\n",
       "      <td>263</td>\n",
       "      <td>1</td>\n",
       "      <td>180.0</td>\n",
       "      <td>121.0</td>\n",
       "      <td>0.17</td>\n",
       "    </tr>\n",
       "    <tr>\n",
       "      <th>4</th>\n",
       "      <td>5</td>\n",
       "      <td>4</td>\n",
       "      <td>267</td>\n",
       "      <td>1</td>\n",
       "      <td>180.0</td>\n",
       "      <td>121.0</td>\n",
       "      <td>0.17</td>\n",
       "    </tr>\n",
       "  </tbody>\n",
       "</table>\n",
       "</div>"
      ],
      "text/plain": [
       "   Unnamed: 0  N  t, sec  sigma_t, sec  mass, gramm  length, cm  phi, rad\n",
       "0           1  4     268             1        180.0       121.0      0.16\n",
       "1           2  4     264             1        180.0       121.0      0.18\n",
       "2           3  4     275             1        180.0       121.0      0.16\n",
       "3           4  4     263             1        180.0       121.0      0.17\n",
       "4           5  4     267             1        180.0       121.0      0.17"
      ]
     },
     "execution_count": 224,
     "metadata": {},
     "output_type": "execute_result"
    }
   ],
   "source": [
    "data = pd.read_csv('data_numpy_lab.csv')\n",
    "data.head()"
   ]
  },
  {
   "cell_type": "markdown",
   "metadata": {},
   "source": [
    "## 2.2 Working with Data"
   ]
  },
  {
   "cell_type": "markdown",
   "metadata": {},
   "source": [
    "The columns in the dataframe are as follows:\n",
    "\n",
    "- N: Number of full gyroscope rotations in the experiment;\n",
    "- t, in seconds: Time of the experiment;\n",
    "- σ_t: Measurement error in time;\n",
    "- mass: Mass of the weight attached to the arm on the gyroscope;\n",
    "- length: Length of the previously mentioned arm;\n",
    "- phi: Angle in radians by which the arm dropped during the experiment. This will help us estimate the effect of friction in the gyroscope on precession."
   ]
  },
  {
   "cell_type": "markdown",
   "metadata": {},
   "source": [
    "Since physicists like to work with properly dimensioned quantities, convert the mass columns to kilograms and length to meters. Then rename all columns to exclude references to units—use only the names of physical quantities."
   ]
  },
  {
   "cell_type": "code",
   "execution_count": null,
   "metadata": {},
   "outputs": [],
   "source": [
    "data['mass, gramm']= data['mass, gramm'] / 1000\n",
    "data['length, cm'] = data['length, cm'] /100\n",
    "\n"
   ]
  },
  {
   "cell_type": "code",
   "execution_count": null,
   "metadata": {},
   "outputs": [
    {
     "data": {
      "text/html": [
       "<div>\n",
       "<style scoped>\n",
       "    .dataframe tbody tr th:only-of-type {\n",
       "        vertical-align: middle;\n",
       "    }\n",
       "\n",
       "    .dataframe tbody tr th {\n",
       "        vertical-align: top;\n",
       "    }\n",
       "\n",
       "    .dataframe thead th {\n",
       "        text-align: right;\n",
       "    }\n",
       "</style>\n",
       "<table border=\"1\" class=\"dataframe\">\n",
       "  <thead>\n",
       "    <tr style=\"text-align: right;\">\n",
       "      <th></th>\n",
       "      <th>Unnamed: 0</th>\n",
       "      <th>N</th>\n",
       "      <th>t</th>\n",
       "      <th>sigma_t</th>\n",
       "      <th>mass</th>\n",
       "      <th>length</th>\n",
       "      <th>phi</th>\n",
       "    </tr>\n",
       "  </thead>\n",
       "  <tbody>\n",
       "    <tr>\n",
       "      <th>0</th>\n",
       "      <td>1</td>\n",
       "      <td>4</td>\n",
       "      <td>268</td>\n",
       "      <td>1</td>\n",
       "      <td>0.18</td>\n",
       "      <td>1.21</td>\n",
       "      <td>0.16</td>\n",
       "    </tr>\n",
       "    <tr>\n",
       "      <th>1</th>\n",
       "      <td>2</td>\n",
       "      <td>4</td>\n",
       "      <td>264</td>\n",
       "      <td>1</td>\n",
       "      <td>0.18</td>\n",
       "      <td>1.21</td>\n",
       "      <td>0.18</td>\n",
       "    </tr>\n",
       "    <tr>\n",
       "      <th>2</th>\n",
       "      <td>3</td>\n",
       "      <td>4</td>\n",
       "      <td>275</td>\n",
       "      <td>1</td>\n",
       "      <td>0.18</td>\n",
       "      <td>1.21</td>\n",
       "      <td>0.16</td>\n",
       "    </tr>\n",
       "    <tr>\n",
       "      <th>3</th>\n",
       "      <td>4</td>\n",
       "      <td>4</td>\n",
       "      <td>263</td>\n",
       "      <td>1</td>\n",
       "      <td>0.18</td>\n",
       "      <td>1.21</td>\n",
       "      <td>0.17</td>\n",
       "    </tr>\n",
       "    <tr>\n",
       "      <th>4</th>\n",
       "      <td>5</td>\n",
       "      <td>4</td>\n",
       "      <td>267</td>\n",
       "      <td>1</td>\n",
       "      <td>0.18</td>\n",
       "      <td>1.21</td>\n",
       "      <td>0.17</td>\n",
       "    </tr>\n",
       "  </tbody>\n",
       "</table>\n",
       "</div>"
      ],
      "text/plain": [
       "   Unnamed: 0  N    t  sigma_t  mass  length   phi\n",
       "0           1  4  268        1  0.18    1.21  0.16\n",
       "1           2  4  264        1  0.18    1.21  0.18\n",
       "2           3  4  275        1  0.18    1.21  0.16\n",
       "3           4  4  263        1  0.18    1.21  0.17\n",
       "4           5  4  267        1  0.18    1.21  0.17"
      ]
     },
     "execution_count": 226,
     "metadata": {},
     "output_type": "execute_result"
    }
   ],
   "source": [
    "data.rename(columns={\"t, sec\" : 't', 'sigma_t, sec' : 'sigma_t', 'mass, gramm' : 'mass',\n",
    "       'length, cm' : 'length', 'phi, rad' : 'phi'}, inplace=True)\n",
    "data.head()"
   ]
  },
  {
   "cell_type": "code",
   "execution_count": 229,
   "metadata": {},
   "outputs": [],
   "source": [
    "assert data.mass.mean() < 0.3\n",
    "assert np.allclose(data['length'].mean(), 1.155)\n",
    "# assert all(' ' not in column for column in data.columns)\n"
   ]
  },
  {
   "cell_type": "markdown",
   "metadata": {},
   "source": [
    "Add new columns to the dataframe with the corresponding names and values, calculated using these formulas:\n",
    "\n",
    "`omega`: $\\Omega = 2 \\pi \\cdot \\frac{N}{t}$\n",
    "\n",
    "`sigma_omega`: $\\sigma_{\\Omega} = \\Omega / t \\cdot \\sigma_t$\n",
    "\n",
    "`omega_down`: $\\Omega_{down} = \\varphi / t$\n",
    "\n",
    "`sigma_down`: $\\Omega_{down} \\cdot \\sigma_t / t$\n",
    "\n",
    "`momentum`: $M = m \\cdot g \\cdot l$ (`g = 9.8 м/с^2`)\n",
    "\n",
    "`momentum_down`: $M_{down} = m \\cdot \\frac{\\varphi}{t^2} \\cdot l^2$\n",
    "\n",
    "`sigma_momentum`: $\\sigma_{M} = M_{down} \\cdot 2 \\cdot \\frac{\\sigma_t}{t}$"
   ]
  },
  {
   "cell_type": "code",
   "execution_count": null,
   "metadata": {},
   "outputs": [],
   "source": []
  }
 ],
 "metadata": {
  "kernelspec": {
   "display_name": "Python 3",
   "language": "python",
   "name": "python3"
  },
  "language_info": {
   "codemirror_mode": {
    "name": "ipython",
    "version": 3
   },
   "file_extension": ".py",
   "mimetype": "text/x-python",
   "name": "python",
   "nbconvert_exporter": "python",
   "pygments_lexer": "ipython3",
   "version": "3.11.3"
  }
 },
 "nbformat": 4,
 "nbformat_minor": 2
}
